{
 "cells": [
  {
   "cell_type": "code",
   "execution_count": 3,
   "metadata": {
    "collapsed": true
   },
   "outputs": [],
   "source": [
    "import pandas as pd"
   ]
  },
  {
   "cell_type": "code",
   "execution_count": 4,
   "metadata": {
    "collapsed": true
   },
   "outputs": [],
   "source": [
    "import numpy as np"
   ]
  },
  {
   "cell_type": "code",
   "execution_count": 5,
   "metadata": {
    "collapsed": true
   },
   "outputs": [],
   "source": [
    "import matplotlib.pyplot as plt\n"
   ]
  },
  {
   "cell_type": "code",
   "execution_count": 6,
   "metadata": {
    "collapsed": true
   },
   "outputs": [],
   "source": [
    "from pandas import DataFrame, Series"
   ]
  },
  {
   "cell_type": "code",
   "execution_count": 7,
   "metadata": {
    "collapsed": false
   },
   "outputs": [
    {
     "name": "stdout",
     "output_type": "stream",
     "text": [
      "Populating the interactive namespace from numpy and matplotlib\n"
     ]
    }
   ],
   "source": [
    "%pylab inline"
   ]
  },
  {
   "cell_type": "code",
   "execution_count": 8,
   "metadata": {
    "collapsed": true
   },
   "outputs": [],
   "source": [
    "c_cycle=(\"#3498db\",\"#e74c3c\",\"#1abc9c\",\"#9b59b6\",\"#f1c40f\",\"#ecf0f1\",\"#34495e\",\n",
    "                  \"#446cb3\",\"#d24d57\",\"#27ae60\",\"#663399\", \"#f7ca18\",\"#bdc3c7\",\"#2c3e50\")\n",
    "mpl.rc('font', family='Bitstream Vera Sans', size=20)\n",
    "mpl.rc('lines', linewidth=2,color=\"#2c3e50\")\n",
    "mpl.rc('patch', linewidth=0,facecolor=\"none\",edgecolor=\"none\")\n",
    "mpl.rc('text', color='#2c3e50')\n",
    "mpl.rc('axes', facecolor='none',edgecolor=\"none\",titlesize=25,labelsize=15,color_cycle=c_cycle,grid=False)\n",
    "mpl.rc('xtick.major',size=10,width=0)\n",
    "mpl.rc('ytick.major',size=10,width=0)\n",
    "mpl.rc('xtick.minor',size=10,width=0)\n",
    "mpl.rc('ytick.minor',size=10,width=0)\n",
    "mpl.rc('ytick',direction=\"out\")\n",
    "mpl.rc('grid',color='#c0392b',alpha=0.3,linewidth=1)\n",
    "mpl.rc('legend',numpoints=3,fontsize=15,borderpad=0,markerscale=3,labelspacing=0.2,frameon=False,framealpha=0.6,handlelength=1,handleheight=0.5)\n",
    "mpl.rc('figure',figsize=(10,6),dpi=80,facecolor=\"none\",edgecolor=\"none\")\n",
    "mpl.rc('savefig',dpi=100,facecolor=\"none\",edgecolor=\"none\")"
   ]
  },
  {
   "cell_type": "code",
   "execution_count": 9,
   "metadata": {
    "collapsed": true
   },
   "outputs": [],
   "source": [
    "weather = pd.read_table(\"daily_weather.tsv\")"
   ]
  },
  {
   "cell_type": "code",
   "execution_count": 10,
   "metadata": {
    "collapsed": true
   },
   "outputs": [],
   "source": [
    "usage = pd.read_table(\"usage_2012.tsv\")"
   ]
  },
  {
   "cell_type": "code",
   "execution_count": 11,
   "metadata": {
    "collapsed": true
   },
   "outputs": [],
   "source": [
    "stations = pd.read_table(\"stations.tsv\")"
   ]
  },
  {
   "cell_type": "code",
   "execution_count": 12,
   "metadata": {
    "collapsed": true
   },
   "outputs": [],
   "source": [
    "weather.loc[weather['season_code'] == 1, 'season_desc'] = 'winter'\n"
   ]
  },
  {
   "cell_type": "code",
   "execution_count": 13,
   "metadata": {
    "collapsed": true
   },
   "outputs": [],
   "source": [
    "weather.loc[weather['season_code'] == 2, 'season_desc'] = 'spring'"
   ]
  },
  {
   "cell_type": "code",
   "execution_count": 14,
   "metadata": {
    "collapsed": true
   },
   "outputs": [],
   "source": [
    "weather.loc[weather['season_code'] == 3, 'season_desc'] = 'summer'\n"
   ]
  },
  {
   "cell_type": "code",
   "execution_count": 15,
   "metadata": {
    "collapsed": true
   },
   "outputs": [],
   "source": [
    "weather.loc[weather['season_code'] == 4, 'season_desc'] = 'fall'\n"
   ]
  },
  {
   "cell_type": "code",
   "execution_count": 30,
   "metadata": {
    "collapsed": true
   },
   "outputs": [],
   "source": [
    "weather['date'] = pd.to_datetime(weather['date'])"
   ]
  },
  {
   "cell_type": "code",
   "execution_count": 31,
   "metadata": {
    "collapsed": true
   },
   "outputs": [],
   "source": [
    "month_rental = weather.groupby(weather['date'].dt.month)['total_riders'].sum()"
   ]
  },
  {
   "cell_type": "code",
   "execution_count": 32,
   "metadata": {
    "collapsed": true
   },
   "outputs": [],
   "source": [
    "mean = weather.groupby('season_desc')['temp'].mean()"
   ]
  },
  {
   "cell_type": "markdown",
   "metadata": {
    "collapsed": true
   },
   "source": [
    "###To start with, we'll need to compute the number of rentals per station per day. Use pandas to do that."
   ]
  },
  {
   "cell_type": "code",
   "execution_count": 33,
   "metadata": {
    "collapsed": true
   },
   "outputs": [],
   "source": [
    "count = usage['station_start'].value_counts()"
   ]
  },
  {
   "cell_type": "code",
   "execution_count": 34,
   "metadata": {
    "collapsed": false
   },
   "outputs": [],
   "source": [
    "average_rental_df = DataFrame({ 'average_rental' : count / 365})"
   ]
  },
  {
   "cell_type": "code",
   "execution_count": 35,
   "metadata": {
    "collapsed": false
   },
   "outputs": [],
   "source": [
    "average_rental_df = DataFrame({ 'station' : stations['station']}, { 'average_rental' : count / 365})"
   ]
  },
  {
   "cell_type": "markdown",
   "metadata": {},
   "source": [
    "###a. Our stations data has a huge number of quantitative attributes: fast_food, parking, restaurant, etc... Some of them are encoded as 0 or 1 (for absence or presence), others represent counts. To start with, run a simple linear regression where the input (x) variables are all the various station attributes and the output (y) variable is the average number of rentals per day."
   ]
  },
  {
   "cell_type": "code",
   "execution_count": 36,
   "metadata": {
    "collapsed": false
   },
   "outputs": [],
   "source": [
    "from sklearn import linear_model"
   ]
  },
  {
   "cell_type": "code",
   "execution_count": 37,
   "metadata": {
    "collapsed": false
   },
   "outputs": [],
   "source": [
    "average_rental_df = DataFrame({ 'average_rental' : count / 365})"
   ]
  },
  {
   "cell_type": "code",
   "execution_count": 38,
   "metadata": {
    "collapsed": false
   },
   "outputs": [],
   "source": [
    "indexed_avg_df = DataFrame(average_rental_df.index, columns=['station'])"
   ]
  },
  {
   "cell_type": "code",
   "execution_count": 39,
   "metadata": {
    "collapsed": true
   },
   "outputs": [],
   "source": [
    "indexed_avg_df['avg_rentals'] = average_rental_df.values"
   ]
  },
  {
   "cell_type": "code",
   "execution_count": 40,
   "metadata": {
    "collapsed": false
   },
   "outputs": [],
   "source": [
    "indexed_avg_df['station'] = average_rental_df.index"
   ]
  },
  {
   "cell_type": "code",
   "execution_count": 43,
   "metadata": {
    "collapsed": false
   },
   "outputs": [],
   "source": [
    "avgerage_stations_df = pd.merge(left=indexed_avg_df, right=stations, on='station')"
   ]
  },
  {
   "cell_type": "code",
   "execution_count": 45,
   "metadata": {
    "collapsed": false
   },
   "outputs": [],
   "source": [
    "x = avgerage_stations_df[list(avgerage_stations_df.columns.values[8:])]\n",
    "y = avgerage_stations_df[list(avgerage_stations_df.columns.values[1:2])]"
   ]
  },
  {
   "cell_type": "code",
   "execution_count": 46,
   "metadata": {
    "collapsed": false
   },
   "outputs": [
    {
     "data": {
      "text/plain": [
       "LinearRegression(copy_X=True, fit_intercept=True, n_jobs=1, normalize=False)"
      ]
     },
     "execution_count": 46,
     "metadata": {},
     "output_type": "execute_result"
    }
   ],
   "source": [
    "linear_reg = linear_model.LinearRegression()\n",
    "linear_reg.fit(x, y)"
   ]
  },
  {
   "cell_type": "markdown",
   "metadata": {},
   "source": [
    "###Plot the predicted values (model.predict(x)) against the actual values and see how they compare."
   ]
  },
  {
   "cell_type": "code",
   "execution_count": 48,
   "metadata": {
    "collapsed": false
   },
   "outputs": [
    {
     "data": {
      "image/png": "[encoded data removed]",
      "text/plain": [
       "<matplotlib.figure.Figure at 0x10afdc490>"
      ]
     },
     "metadata": {},
     "output_type": "display_data"
    }
   ],
   "source": [
    "plt.scatter(y, linear_reg.predict(x), s=100)\n",
    "plt.show()"
   ]
  },
  {
   "cell_type": "markdown",
   "metadata": {},
   "source": [
    "###c. In this case, there are 129 input variables and only 185 rows which means we're very likely to overfit. Look at the model coefficients and see if anything jumps out as odd.\n",
    "\n"
   ]
  },
  {
   "cell_type": "code",
   "execution_count": 53,
   "metadata": {
    "collapsed": false
   },
   "outputs": [
    {
     "data": {
      "text/plain": [
       "array([[  2.31721704e+00,  -2.14932061e-01,   5.55710831e-02,\n",
       "         -6.33034472e+01,   1.95461168e+00,  -4.30632265e+00,\n",
       "          5.51850630e+00,   1.90775768e+00,  -3.78606353e-01,\n",
       "          7.83669551e-12,   2.47157737e+00,   6.92093575e+01,\n",
       "          4.55079500e+00,   5.25217425e-12,  -1.24598788e-12,\n",
       "          5.24796402e+00,   1.26818374e-11,   4.71211429e+00,\n",
       "          9.12405995e+00,  -3.03680165e+00,   3.23088610e+00,\n",
       "         -3.75439309e+01,   2.80098019e+01,  -3.85041448e+01,\n",
       "         -1.56214076e+01,   2.12991919e+01,   1.52771531e+00,\n",
       "          3.03238328e+00,  -4.28998558e+00,   8.94580818e+00,\n",
       "          2.12991919e+01,  -2.85293190e-01,   3.24996230e+00,\n",
       "          1.29635558e+01,   4.81656870e+00,  -1.97777901e+00,\n",
       "         -3.44530831e+01,  -1.67244489e+01,   5.32312313e+00,\n",
       "          5.04749123e+00,   1.14823383e+01,  -5.85187161e+00,\n",
       "          1.48491231e+02,  -5.72315824e+00,  -1.28867680e+01,\n",
       "          1.82383250e+02,  -4.46662968e-02,   4.04835029e-01,\n",
       "         -6.61263124e+00,  -9.07174761e+00,   7.65223912e+01,\n",
       "          6.04577483e+00,  -6.46742643e+00,  -1.93117599e+01,\n",
       "          3.29802294e+01,   1.00463950e+01,   2.38344517e+01,\n",
       "          5.40851589e+01,   1.56183090e+01,   5.19409583e+00,\n",
       "          1.24487220e+01,  -1.82288484e+01,  -2.90906428e+00,\n",
       "         -2.49165120e+01,  -2.70775807e+01,   1.76334302e+01,\n",
       "         -2.49953401e+01,  -1.64753484e+01,  -1.71491578e+01,\n",
       "         -2.01993823e+01,   4.59571709e+01,  -8.59494580e+01,\n",
       "         -1.96050518e+01,   1.17080604e+01,   1.59601641e+00,\n",
       "          3.42277281e+01,   3.42277281e+01,  -1.44175168e+01,\n",
       "          3.68231342e+01,  -3.79667801e+00,  -3.79667801e+00,\n",
       "          1.00733949e+02,   7.85516211e-15,  -8.42154144e+00,\n",
       "          1.15940792e+01,  -6.42365644e-01,  -6.42365644e-01,\n",
       "         -1.10034617e+01,   3.11225185e-14,  -3.94065511e-15,\n",
       "          2.96425076e+01,  -5.62058836e-15,   1.57404934e+01,\n",
       "         -4.97305262e+01,   4.74346096e-15,   2.15893669e-15,\n",
       "          6.07615746e-16,  -9.13249113e-15,  -8.50400911e-15,\n",
       "          4.96298604e-16,  -8.04695128e-15,   6.90004690e-15,\n",
       "          4.59741844e-02,   3.51351643e-01,  -1.08045886e+00,\n",
       "         -6.32501804e-01,   4.07413948e+01,   0.00000000e+00,\n",
       "         -3.63886442e-01,  -4.98038835e+00,   3.29809209e+01,\n",
       "          1.29899253e+01,  -3.54106371e+01,  -4.99597010e+00,\n",
       "          1.74971881e+01,   0.00000000e+00,   3.83029840e+00,\n",
       "         -1.03432997e+00,  -1.88116448e+00,  -6.24305687e+00,\n",
       "         -1.06129934e+00,  -9.48083675e+01,   1.64476743e+00,\n",
       "         -2.18760877e+01,  -2.33548825e+00,  -1.82010904e+01,\n",
       "         -2.15230845e+01,  -3.49147840e+01,   6.84319009e+00]])"
      ]
     },
     "execution_count": 53,
     "metadata": {},
     "output_type": "execute_result"
    }
   ],
   "source": [
    "linear_reg.coef_\n"
   ]
  },
  {
   "cell_type": "markdown",
   "metadata": {},
   "source": [
    "###d. Go back and split the data into a training set and a test set. Train the model on the training set and evaluate it on the test set. How does it do?"
   ]
  },
  {
   "cell_type": "code",
   "execution_count": null,
   "metadata": {
    "collapsed": true
   },
   "outputs": [],
   "source": []
  }
 ],
 "metadata": {
  "kernelspec": {
   "display_name": "Python 2",
   "language": "python",
   "name": "python2"
  },
  "language_info": {
   "codemirror_mode": {
    "name": "ipython",
    "version": 2
   },
   "file_extension": ".py",
   "mimetype": "text/x-python",
   "name": "python",
   "nbconvert_exporter": "python",
   "pygments_lexer": "ipython2",
   "version": "2.7.5"
  }
 },
 "nbformat": 4,
 "nbformat_minor": 0
}
