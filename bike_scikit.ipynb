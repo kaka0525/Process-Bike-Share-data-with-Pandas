{
 "cells": [
  {
   "cell_type": "code",
   "execution_count": 1,
   "metadata": {
    "collapsed": false
   },
   "outputs": [
    {
     "name": "stdout",
     "output_type": "stream",
     "text": [
      "Populating the interactive namespace from numpy and matplotlib\n"
     ]
    }
   ],
   "source": [
    "import pandas as pd\n",
    "import numpy as np\n",
    "import matplotlib.pyplot as plt\n",
    "from pandas import DataFrame, Series\n",
    "%pylab inline"
   ]
  },
  {
   "cell_type": "code",
   "execution_count": 2,
   "metadata": {
    "collapsed": true
   },
   "outputs": [],
   "source": [
    "c_cycle=(\"#3498db\",\"#e74c3c\",\"#1abc9c\",\"#9b59b6\",\"#f1c40f\",\"#ecf0f1\",\"#34495e\",\n",
    "                  \"#446cb3\",\"#d24d57\",\"#27ae60\",\"#663399\", \"#f7ca18\",\"#bdc3c7\",\"#2c3e50\")\n",
    "mpl.rc('font', family='Bitstream Vera Sans', size=20)\n",
    "mpl.rc('lines', linewidth=2,color=\"#2c3e50\")\n",
    "mpl.rc('patch', linewidth=0,facecolor=\"none\",edgecolor=\"none\")\n",
    "mpl.rc('text', color='#2c3e50')\n",
    "mpl.rc('axes', facecolor='none',edgecolor=\"none\",titlesize=25,labelsize=15,color_cycle=c_cycle,grid=False)\n",
    "mpl.rc('xtick.major',size=10,width=0)\n",
    "mpl.rc('ytick.major',size=10,width=0)\n",
    "mpl.rc('xtick.minor',size=10,width=0)\n",
    "mpl.rc('ytick.minor',size=10,width=0)\n",
    "mpl.rc('ytick',direction=\"out\")\n",
    "mpl.rc('grid',color='#c0392b',alpha=0.3,linewidth=1)\n",
    "mpl.rc('legend',numpoints=3,fontsize=15,borderpad=0,markerscale=3,labelspacing=0.2,frameon=False,framealpha=0.6,handlelength=1,handleheight=0.5)\n",
    "mpl.rc('figure',figsize=(10,6),dpi=80,facecolor=\"none\",edgecolor=\"none\")\n",
    "mpl.rc('savefig',dpi=100,facecolor=\"none\",edgecolor=\"none\")"
   ]
  },
  {
   "cell_type": "code",
   "execution_count": 3,
   "metadata": {
    "collapsed": true
   },
   "outputs": [],
   "source": [
    "weather = pd.read_table(\"daily_weather.tsv\")\n",
    "usage = pd.read_table(\"usage_2012.tsv\")\n",
    "stations = pd.read_table(\"stations.tsv\")"
   ]
  },
  {
   "cell_type": "code",
   "execution_count": 4,
   "metadata": {
    "collapsed": true
   },
   "outputs": [],
   "source": [
    "weather.loc[weather['season_code'] == 1, 'season_desc'] = 'winter'\n",
    "weather.loc[weather['season_code'] == 2, 'season_desc'] = 'spring'\n",
    "weather.loc[weather['season_code'] == 3, 'season_desc'] = 'summer'\n",
    "weather.loc[weather['season_code'] == 4, 'season_desc'] = 'fall'"
   ]
  },
  {
   "cell_type": "code",
   "execution_count": 5,
   "metadata": {
    "collapsed": true
   },
   "outputs": [],
   "source": [
    "weather['date'] = pd.to_datetime(weather['date'])"
   ]
  },
  {
   "cell_type": "code",
   "execution_count": 6,
   "metadata": {
    "collapsed": true
   },
   "outputs": [],
   "source": [
    "month_rental = weather.groupby(weather['date'].dt.month)['total_riders'].sum()"
   ]
  },
  {
   "cell_type": "code",
   "execution_count": 7,
   "metadata": {
    "collapsed": true
   },
   "outputs": [],
   "source": [
    "mean = weather.groupby('season_desc')['temp'].mean()"
   ]
  },
  {
   "cell_type": "markdown",
   "metadata": {},
   "source": [
    "###To start with, we'll need to compute the number of rentals per station per day. Use pandas to do that."
   ]
  },
  {
   "cell_type": "code",
   "execution_count": 8,
   "metadata": {
    "collapsed": true
   },
   "outputs": [],
   "source": [
    "count = usage['station_start'].value_counts()"
   ]
  },
  {
   "cell_type": "code",
   "execution_count": 9,
   "metadata": {
    "collapsed": true
   },
   "outputs": [],
   "source": [
    "average_rental_df = DataFrame({ 'average_rental' : count / 365})"
   ]
  },
  {
   "cell_type": "code",
   "execution_count": 10,
   "metadata": {
    "collapsed": false
   },
   "outputs": [
    {
     "data": {
      "text/html": [
       "<div>\n",
       "<table border=\"1\" class=\"dataframe\">\n",
       "  <thead>\n",
       "    <tr style=\"text-align: right;\">\n",
       "      <th></th>\n",
       "      <th>average_rental</th>\n",
       "    </tr>\n",
       "  </thead>\n",
       "  <tbody>\n",
       "    <tr>\n",
       "      <th>Massachusetts Ave &amp; Dupont Circle NW</th>\n",
       "      <td>191.369863</td>\n",
       "    </tr>\n",
       "    <tr>\n",
       "      <th>Columbus Circle / Union Station</th>\n",
       "      <td>151.084932</td>\n",
       "    </tr>\n",
       "    <tr>\n",
       "      <th>15th &amp; P St NW</th>\n",
       "      <td>135.386301</td>\n",
       "    </tr>\n",
       "    <tr>\n",
       "      <th>17th &amp; Corcoran St NW</th>\n",
       "      <td>119.306849</td>\n",
       "    </tr>\n",
       "    <tr>\n",
       "      <th>14th &amp; V St NW</th>\n",
       "      <td>110.252055</td>\n",
       "    </tr>\n",
       "    <tr>\n",
       "      <th>Adams Mill &amp; Columbia Rd NW</th>\n",
       "      <td>110.087671</td>\n",
       "    </tr>\n",
       "    <tr>\n",
       "      <th>Thomas Circle</th>\n",
       "      <td>109.865753</td>\n",
       "    </tr>\n",
       "    <tr>\n",
       "      <th>Eastern Market Metro / Pennsylvania Ave &amp; 7th St SE</th>\n",
       "      <td>108.884932</td>\n",
       "    </tr>\n",
       "    <tr>\n",
       "      <th>16th &amp; Harvard St NW</th>\n",
       "      <td>95.531507</td>\n",
       "    </tr>\n",
       "    <tr>\n",
       "      <th>21st &amp; I St NW</th>\n",
       "      <td>91.000000</td>\n",
       "    </tr>\n",
       "    <tr>\n",
       "      <th>20th St &amp; Florida Ave NW</th>\n",
       "      <td>87.536986</td>\n",
       "    </tr>\n",
       "    <tr>\n",
       "      <th>North Capitol St &amp; F St NW</th>\n",
       "      <td>87.175342</td>\n",
       "    </tr>\n",
       "    <tr>\n",
       "      <th>14th &amp; Rhode Island Ave NW</th>\n",
       "      <td>87.019178</td>\n",
       "    </tr>\n",
       "    <tr>\n",
       "      <th>7th &amp; F St NW / National Portrait Gallery</th>\n",
       "      <td>86.493151</td>\n",
       "    </tr>\n",
       "    <tr>\n",
       "      <th>8th &amp; H St NW</th>\n",
       "      <td>85.638356</td>\n",
       "    </tr>\n",
       "    <tr>\n",
       "      <th>Metro Center / 12th &amp; G St NW</th>\n",
       "      <td>84.454795</td>\n",
       "    </tr>\n",
       "    <tr>\n",
       "      <th>Lincoln Park / 13th &amp; East Capitol St NE</th>\n",
       "      <td>80.808219</td>\n",
       "    </tr>\n",
       "    <tr>\n",
       "      <th>5th &amp; K St NW</th>\n",
       "      <td>78.709589</td>\n",
       "    </tr>\n",
       "    <tr>\n",
       "      <th>17th &amp; Rhode Island Ave NW</th>\n",
       "      <td>78.512329</td>\n",
       "    </tr>\n",
       "    <tr>\n",
       "      <th>Calvert St &amp; Woodley Pl NW</th>\n",
       "      <td>78.246575</td>\n",
       "    </tr>\n",
       "    <tr>\n",
       "      <th>Park Rd &amp; Holmead Pl NW</th>\n",
       "      <td>77.728767</td>\n",
       "    </tr>\n",
       "    <tr>\n",
       "      <th>Jefferson Dr &amp; 14th St SW</th>\n",
       "      <td>76.805479</td>\n",
       "    </tr>\n",
       "    <tr>\n",
       "      <th>21st &amp; M St NW</th>\n",
       "      <td>76.605479</td>\n",
       "    </tr>\n",
       "    <tr>\n",
       "      <th>10th &amp; U St NW</th>\n",
       "      <td>71.438356</td>\n",
       "    </tr>\n",
       "    <tr>\n",
       "      <th>14th &amp; Harvard St NW</th>\n",
       "      <td>71.249315</td>\n",
       "    </tr>\n",
       "    <tr>\n",
       "      <th>New Hampshire Ave &amp; T St NW</th>\n",
       "      <td>70.969863</td>\n",
       "    </tr>\n",
       "    <tr>\n",
       "      <th>Convention Center / 7th &amp; M St NW</th>\n",
       "      <td>69.309589</td>\n",
       "    </tr>\n",
       "    <tr>\n",
       "      <th>25th St &amp; Pennsylvania Ave NW</th>\n",
       "      <td>69.021918</td>\n",
       "    </tr>\n",
       "    <tr>\n",
       "      <th>14th &amp; R St NW</th>\n",
       "      <td>68.334247</td>\n",
       "    </tr>\n",
       "    <tr>\n",
       "      <th>1st &amp; M St NE</th>\n",
       "      <td>67.942466</td>\n",
       "    </tr>\n",
       "    <tr>\n",
       "      <th>...</th>\n",
       "      <td>...</td>\n",
       "    </tr>\n",
       "    <tr>\n",
       "      <th>King St Metro</th>\n",
       "      <td>3.967123</td>\n",
       "    </tr>\n",
       "    <tr>\n",
       "      <th>12th &amp; Newton St NE</th>\n",
       "      <td>3.564384</td>\n",
       "    </tr>\n",
       "    <tr>\n",
       "      <th>Glebe Rd &amp; 11th St N</th>\n",
       "      <td>3.309589</td>\n",
       "    </tr>\n",
       "    <tr>\n",
       "      <th>Washington Blvd &amp; 10th St N</th>\n",
       "      <td>3.073973</td>\n",
       "    </tr>\n",
       "    <tr>\n",
       "      <th>Braddock Rd Metro</th>\n",
       "      <td>2.895890</td>\n",
       "    </tr>\n",
       "    <tr>\n",
       "      <th>Anacostia Metro</th>\n",
       "      <td>2.542466</td>\n",
       "    </tr>\n",
       "    <tr>\n",
       "      <th>Market Square / King St &amp; Royal St</th>\n",
       "      <td>2.279452</td>\n",
       "    </tr>\n",
       "    <tr>\n",
       "      <th>Washington Blvd &amp; 7th St N</th>\n",
       "      <td>2.189041</td>\n",
       "    </tr>\n",
       "    <tr>\n",
       "      <th>Good Hope Rd &amp; MLK Ave SE</th>\n",
       "      <td>2.134247</td>\n",
       "    </tr>\n",
       "    <tr>\n",
       "      <th>Anacostia Ave &amp; Benning Rd NE / River Terrace</th>\n",
       "      <td>2.084932</td>\n",
       "    </tr>\n",
       "    <tr>\n",
       "      <th>Saint Asaph St &amp; Pendleton  St</th>\n",
       "      <td>2.054795</td>\n",
       "    </tr>\n",
       "    <tr>\n",
       "      <th>Utah St &amp; 11th St N</th>\n",
       "      <td>2.038356</td>\n",
       "    </tr>\n",
       "    <tr>\n",
       "      <th>Prince St &amp; Union St</th>\n",
       "      <td>1.797260</td>\n",
       "    </tr>\n",
       "    <tr>\n",
       "      <th>King St &amp; Patrick St</th>\n",
       "      <td>1.767123</td>\n",
       "    </tr>\n",
       "    <tr>\n",
       "      <th>Barton St &amp; 10th St N</th>\n",
       "      <td>1.583562</td>\n",
       "    </tr>\n",
       "    <tr>\n",
       "      <th>Benning Rd &amp; East Capitol St NE / Benning Rd Metro</th>\n",
       "      <td>1.567123</td>\n",
       "    </tr>\n",
       "    <tr>\n",
       "      <th>Arlington Blvd &amp; N Queen St</th>\n",
       "      <td>1.391781</td>\n",
       "    </tr>\n",
       "    <tr>\n",
       "      <th>Pennsylvania &amp; Minnesota Ave SE</th>\n",
       "      <td>1.309589</td>\n",
       "    </tr>\n",
       "    <tr>\n",
       "      <th>Anacostia Library</th>\n",
       "      <td>1.095890</td>\n",
       "    </tr>\n",
       "    <tr>\n",
       "      <th>Commerce St &amp; Fayette St</th>\n",
       "      <td>1.057534</td>\n",
       "    </tr>\n",
       "    <tr>\n",
       "      <th>Congress Heights Metro</th>\n",
       "      <td>0.775342</td>\n",
       "    </tr>\n",
       "    <tr>\n",
       "      <th>Benning Branch Library</th>\n",
       "      <td>0.758904</td>\n",
       "    </tr>\n",
       "    <tr>\n",
       "      <th>Good Hope &amp; Naylor Rd SE</th>\n",
       "      <td>0.739726</td>\n",
       "    </tr>\n",
       "    <tr>\n",
       "      <th>Minnesota Ave Metro/DOES</th>\n",
       "      <td>0.715068</td>\n",
       "    </tr>\n",
       "    <tr>\n",
       "      <th>Good Hope Rd &amp; 14th St SE</th>\n",
       "      <td>0.668493</td>\n",
       "    </tr>\n",
       "    <tr>\n",
       "      <th>Henry St &amp; Pendleton St</th>\n",
       "      <td>0.660274</td>\n",
       "    </tr>\n",
       "    <tr>\n",
       "      <th>Fairfax Village</th>\n",
       "      <td>0.536986</td>\n",
       "    </tr>\n",
       "    <tr>\n",
       "      <th>Branch &amp; Pennsylvania Ave SE</th>\n",
       "      <td>0.493151</td>\n",
       "    </tr>\n",
       "    <tr>\n",
       "      <th>Potomac Ave &amp; 35th St S</th>\n",
       "      <td>0.361644</td>\n",
       "    </tr>\n",
       "    <tr>\n",
       "      <th>Randle Circle &amp; Minnesota Ave SE</th>\n",
       "      <td>0.361644</td>\n",
       "    </tr>\n",
       "  </tbody>\n",
       "</table>\n",
       "<p>185 rows × 1 columns</p>\n",
       "</div>"
      ],
      "text/plain": [
       "                                                    average_rental\n",
       "Massachusetts Ave & Dupont Circle NW                    191.369863\n",
       "Columbus Circle / Union Station                         151.084932\n",
       "15th & P St NW                                          135.386301\n",
       "17th & Corcoran St NW                                   119.306849\n",
       "14th & V St NW                                          110.252055\n",
       "Adams Mill & Columbia Rd NW                             110.087671\n",
       "Thomas Circle                                           109.865753\n",
       "Eastern Market Metro / Pennsylvania Ave & 7th S...      108.884932\n",
       "16th & Harvard St NW                                     95.531507\n",
       "21st & I St NW                                           91.000000\n",
       "20th St & Florida Ave NW                                 87.536986\n",
       "North Capitol St & F St NW                               87.175342\n",
       "14th & Rhode Island Ave NW                               87.019178\n",
       "7th & F St NW / National Portrait Gallery                86.493151\n",
       "8th & H St NW                                            85.638356\n",
       "Metro Center / 12th & G St NW                            84.454795\n",
       "Lincoln Park / 13th & East Capitol St NE                 80.808219\n",
       "5th & K St NW                                            78.709589\n",
       "17th & Rhode Island Ave NW                               78.512329\n",
       "Calvert St & Woodley Pl NW                               78.246575\n",
       "Park Rd & Holmead Pl NW                                  77.728767\n",
       "Jefferson Dr & 14th St SW                                76.805479\n",
       "21st & M St NW                                           76.605479\n",
       "10th & U St NW                                           71.438356\n",
       "14th & Harvard St NW                                     71.249315\n",
       "New Hampshire Ave & T St NW                              70.969863\n",
       "Convention Center / 7th & M St NW                        69.309589\n",
       "25th St & Pennsylvania Ave NW                            69.021918\n",
       "14th & R St NW                                           68.334247\n",
       "1st & M St NE                                            67.942466\n",
       "...                                                            ...\n",
       "King St Metro                                             3.967123\n",
       "12th & Newton St NE                                       3.564384\n",
       "Glebe Rd & 11th St N                                      3.309589\n",
       "Washington Blvd & 10th St N                               3.073973\n",
       "Braddock Rd Metro                                         2.895890\n",
       "Anacostia Metro                                           2.542466\n",
       "Market Square / King St & Royal St                        2.279452\n",
       "Washington Blvd & 7th St N                                2.189041\n",
       "Good Hope Rd & MLK Ave SE                                 2.134247\n",
       "Anacostia Ave & Benning Rd NE / River Terrace             2.084932\n",
       "Saint Asaph St & Pendleton  St                            2.054795\n",
       "Utah St & 11th St N                                       2.038356\n",
       "Prince St & Union St                                      1.797260\n",
       "King St & Patrick St                                      1.767123\n",
       "Barton St & 10th St N                                     1.583562\n",
       "Benning Rd & East Capitol St NE / Benning Rd Metro        1.567123\n",
       "Arlington Blvd & N Queen St                               1.391781\n",
       "Pennsylvania & Minnesota Ave SE                           1.309589\n",
       "Anacostia Library                                         1.095890\n",
       "Commerce St & Fayette St                                  1.057534\n",
       "Congress Heights Metro                                    0.775342\n",
       "Benning Branch Library                                    0.758904\n",
       "Good Hope & Naylor Rd SE                                  0.739726\n",
       "Minnesota Ave Metro/DOES                                  0.715068\n",
       "Good Hope Rd & 14th St SE                                 0.668493\n",
       "Henry St & Pendleton St                                   0.660274\n",
       "Fairfax Village                                           0.536986\n",
       "Branch & Pennsylvania Ave SE                              0.493151\n",
       "Potomac Ave & 35th St S                                   0.361644\n",
       "Randle Circle & Minnesota Ave SE                          0.361644\n",
       "\n",
       "[185 rows x 1 columns]"
      ]
     },
     "execution_count": 10,
     "metadata": {},
     "output_type": "execute_result"
    }
   ],
   "source": [
    "average_rental_df"
   ]
  },
  {
   "cell_type": "markdown",
   "metadata": {},
   "source": [
    "###a. Our stations data has a huge number of quantitative attributes: fast_food, parking, restaurant, etc... Some of them are encoded as 0 or 1 (for absence or presence), others represent counts. To start with, run a simple linear regression where the input (x) variables are all the various station attributes and the output (y) variable is the average number of rentals per day."
   ]
  },
  {
   "cell_type": "code",
   "execution_count": 11,
   "metadata": {
    "collapsed": true
   },
   "outputs": [],
   "source": [
    "from sklearn import linear_model"
   ]
  },
  {
   "cell_type": "code",
   "execution_count": 12,
   "metadata": {
    "collapsed": true
   },
   "outputs": [],
   "source": [
    "indexed_avg_df = DataFrame(average_rental_df.index, columns=['station'])"
   ]
  },
  {
   "cell_type": "code",
   "execution_count": 13,
   "metadata": {
    "collapsed": true
   },
   "outputs": [],
   "source": [
    "indexed_avg_df['avg_rentals'] = average_rental_df.values"
   ]
  },
  {
   "cell_type": "code",
   "execution_count": 14,
   "metadata": {
    "collapsed": true
   },
   "outputs": [],
   "source": [
    "indexed_avg_df['station'] = average_rental_df.index"
   ]
  },
  {
   "cell_type": "code",
   "execution_count": 15,
   "metadata": {
    "collapsed": true
   },
   "outputs": [],
   "source": [
    "avgerage_stations_df = pd.merge(left=indexed_avg_df, right=stations, on='station')"
   ]
  },
  {
   "cell_type": "code",
   "execution_count": 16,
   "metadata": {
    "collapsed": true
   },
   "outputs": [],
   "source": [
    "x = avgerage_stations_df[list(avgerage_stations_df.columns.values[8:])]\n",
    "y = avgerage_stations_df[list(avgerage_stations_df.columns.values[1:2])]"
   ]
  },
  {
   "cell_type": "code",
   "execution_count": 17,
   "metadata": {
    "collapsed": false
   },
   "outputs": [
    {
     "data": {
      "text/plain": [
       "LinearRegression(copy_X=True, fit_intercept=True, n_jobs=1, normalize=False)"
      ]
     },
     "execution_count": 17,
     "metadata": {},
     "output_type": "execute_result"
    }
   ],
   "source": [
    "linear_reg = linear_model.LinearRegression()\n",
    "linear_reg.fit(x, y)"
   ]
  },
  {
   "cell_type": "markdown",
   "metadata": {},
   "source": [
    "###Plot the predicted values (model.predict(x)) against the actual values and see how they compare."
   ]
  },
  {
   "cell_type": "code",
   "execution_count": 18,
   "metadata": {
    "collapsed": false
   },
   "outputs": [
    {
     "data": {
      "image/png": "[encoded data removed]",
      "text/plain": [
       "<matplotlib.figure.Figure at 0x10abef9d0>"
      ]
     },
     "metadata": {},
     "output_type": "display_data"
    }
   ],
   "source": [
    "plt.scatter(y, linear_reg.predict(x), s=50)\n",
    "plt.show()"
   ]
  },
  {
   "cell_type": "markdown",
   "metadata": {},
   "source": [
    "###c. In this case, there are 129 input variables and only 185 rows which means we're very likely to overfit. Look at the model coefficients and see if anything jumps out as odd."
   ]
  },
  {
   "cell_type": "code",
   "execution_count": 19,
   "metadata": {
    "collapsed": false
   },
   "outputs": [
    {
     "data": {
      "text/plain": [
       "array([[  2.31721704e+00,  -2.14932061e-01,   5.55710831e-02,\n",
       "         -6.33034472e+01,   1.95461168e+00,  -4.30632265e+00,\n",
       "          5.51850630e+00,   1.90775768e+00,  -3.78606353e-01,\n",
       "          7.83669551e-12,   2.47157737e+00,   6.92093575e+01,\n",
       "          4.55079500e+00,   5.25217425e-12,  -1.24598788e-12,\n",
       "          5.24796402e+00,   1.26818374e-11,   4.71211429e+00,\n",
       "          9.12405995e+00,  -3.03680165e+00,   3.23088610e+00,\n",
       "         -3.75439309e+01,   2.80098019e+01,  -3.85041448e+01,\n",
       "         -1.56214076e+01,   2.12991919e+01,   1.52771531e+00,\n",
       "          3.03238328e+00,  -4.28998558e+00,   8.94580818e+00,\n",
       "          2.12991919e+01,  -2.85293190e-01,   3.24996230e+00,\n",
       "          1.29635558e+01,   4.81656870e+00,  -1.97777901e+00,\n",
       "         -3.44530831e+01,  -1.67244489e+01,   5.32312313e+00,\n",
       "          5.04749123e+00,   1.14823383e+01,  -5.85187161e+00,\n",
       "          1.48491231e+02,  -5.72315824e+00,  -1.28867680e+01,\n",
       "          1.82383250e+02,  -4.46662968e-02,   4.04835029e-01,\n",
       "         -6.61263124e+00,  -9.07174761e+00,   7.65223912e+01,\n",
       "          6.04577483e+00,  -6.46742643e+00,  -1.93117599e+01,\n",
       "          3.29802294e+01,   1.00463950e+01,   2.38344517e+01,\n",
       "          5.40851589e+01,   1.56183090e+01,   5.19409583e+00,\n",
       "          1.24487220e+01,  -1.82288484e+01,  -2.90906428e+00,\n",
       "         -2.49165120e+01,  -2.70775807e+01,   1.76334302e+01,\n",
       "         -2.49953401e+01,  -1.64753484e+01,  -1.71491578e+01,\n",
       "         -2.01993823e+01,   4.59571709e+01,  -8.59494580e+01,\n",
       "         -1.96050518e+01,   1.17080604e+01,   1.59601641e+00,\n",
       "          3.42277281e+01,   3.42277281e+01,  -1.44175168e+01,\n",
       "          3.68231342e+01,  -3.79667801e+00,  -3.79667801e+00,\n",
       "          1.00733949e+02,   7.85516211e-15,  -8.42154144e+00,\n",
       "          1.15940792e+01,  -6.42365644e-01,  -6.42365644e-01,\n",
       "         -1.10034617e+01,   3.11225185e-14,  -3.94065511e-15,\n",
       "          2.96425076e+01,  -5.62058836e-15,   1.57404934e+01,\n",
       "         -4.97305262e+01,   4.74346096e-15,   2.15893669e-15,\n",
       "          6.07615746e-16,  -9.13249113e-15,  -8.50400911e-15,\n",
       "          4.96298604e-16,  -8.04695128e-15,   6.90004690e-15,\n",
       "          4.59741844e-02,   3.51351643e-01,  -1.08045886e+00,\n",
       "         -6.32501804e-01,   4.07413948e+01,   0.00000000e+00,\n",
       "         -3.63886442e-01,  -4.98038835e+00,   3.29809209e+01,\n",
       "          1.29899253e+01,  -3.54106371e+01,  -4.99597010e+00,\n",
       "          1.74971881e+01,   0.00000000e+00,   3.83029840e+00,\n",
       "         -1.03432997e+00,  -1.88116448e+00,  -6.24305687e+00,\n",
       "         -1.06129934e+00,  -9.48083675e+01,   1.64476743e+00,\n",
       "         -2.18760877e+01,  -2.33548825e+00,  -1.82010904e+01,\n",
       "         -2.15230845e+01,  -3.49147840e+01,   6.84319009e+00]])"
      ]
     },
     "execution_count": 19,
     "metadata": {},
     "output_type": "execute_result"
    }
   ],
   "source": [
    "linear_reg.coef_"
   ]
  },
  {
   "cell_type": "markdown",
   "metadata": {},
   "source": [
    "###d. Go back and split the data into a training set and a test set. Train the model on the training set and evaluate it on the test set. How does it do?"
   ]
  },
  {
   "cell_type": "code",
   "execution_count": 20,
   "metadata": {
    "collapsed": true
   },
   "outputs": [],
   "source": [
    "from sklearn.cross_validation import train_test_split"
   ]
  },
  {
   "cell_type": "code",
   "execution_count": 21,
   "metadata": {
    "collapsed": true
   },
   "outputs": [],
   "source": [
    "x_train, x_test, y_train, y_test = train_test_split(x, y, test_size=0.5, random_state=42)"
   ]
  },
  {
   "cell_type": "code",
   "execution_count": 22,
   "metadata": {
    "collapsed": false
   },
   "outputs": [
    {
     "data": {
      "text/plain": [
       "LinearRegression(copy_X=True, fit_intercept=True, n_jobs=1, normalize=False)"
      ]
     },
     "execution_count": 22,
     "metadata": {},
     "output_type": "execute_result"
    }
   ],
   "source": [
    "lin_reg = linear_model.LinearRegression()\n",
    "lin_reg.fit(x_train, y_train)"
   ]
  },
  {
   "cell_type": "code",
   "execution_count": 23,
   "metadata": {
    "collapsed": false
   },
   "outputs": [
    {
     "data": {
      "image/png": "[encoded data removed]",
      "text/plain": [
       "<matplotlib.figure.Figure at 0x10adcfd10>"
      ]
     },
     "metadata": {},
     "output_type": "display_data"
    }
   ],
   "source": [
    "plt.scatter(lin_reg.predict(x_test), y_test, s=50)\n",
    "plt.xlabel('predicted value')\n",
    "plt.ylabel('actual value')\n",
    "plt.show()"
   ]
  },
  {
   "cell_type": "markdown",
   "metadata": {},
   "source": [
    "It looks too scattered and doesn't look like accurate."
   ]
  },
  {
   "cell_type": "markdown",
   "metadata": {},
   "source": [
    "###1.a. Since we have so many variables, this is a good candidate for regularization. In particular, since we'd like to eliminate a lot of them, lasso seems like a good candidate. Build a lasso model on your training data for various values of alpha. Which variables survive?"
   ]
  },
  {
   "cell_type": "code",
   "execution_count": 24,
   "metadata": {
    "collapsed": true
   },
   "outputs": [],
   "source": [
    "from sklearn.linear_model import Lasso"
   ]
  },
  {
   "cell_type": "code",
   "execution_count": 25,
   "metadata": {
    "collapsed": true
   },
   "outputs": [],
   "source": [
    "lasso_model = Lasso(alpha=0.1)"
   ]
  },
  {
   "cell_type": "code",
   "execution_count": 26,
   "metadata": {
    "collapsed": false
   },
   "outputs": [
    {
     "data": {
      "text/plain": [
       "Lasso(alpha=0.1, copy_X=True, fit_intercept=True, max_iter=1000,\n",
       "   normalize=False, positive=False, precompute=False, random_state=None,\n",
       "   selection='cyclic', tol=0.0001, warm_start=False)"
      ]
     },
     "execution_count": 26,
     "metadata": {},
     "output_type": "execute_result"
    }
   ],
   "source": [
    "lasso_model.fit(x_train, y_train)"
   ]
  },
  {
   "cell_type": "code",
   "execution_count": 27,
   "metadata": {
    "collapsed": false
   },
   "outputs": [
    {
     "data": {
      "text/plain": [
       "array([  2.11891665,  -8.31310629,   1.30158042,  12.38513702,\n",
       "         1.81502454,  -3.97056337,   4.92886595,   0.        ,\n",
       "         2.41843936,   0.        ,   2.52385879,   0.        ,\n",
       "        -4.82539534,   0.        ,   0.        ,  -3.25661618,\n",
       "         0.        ,   0.        ,  -0.52538975,  -3.47180753,\n",
       "         3.92691686,  -0.        ,  29.8695751 ,   0.        ,\n",
       "        -0.        ,  -0.        ,  -1.55760355,   2.31622019,\n",
       "        -3.36219043,   1.68220631,  -0.        ,  -0.        ,\n",
       "         2.37665676,  -0.26992042,   5.00393918,  -4.84679097,\n",
       "        -0.        , -31.15780614,   1.25142142,   6.35268305,\n",
       "        11.88400288,  -6.62417012,   0.        ,   0.        ,\n",
       "        -0.        ,  25.2336119 ,   0.        ,  16.70356365,\n",
       "        -0.        ,  -0.        ,  -0.        ,   0.        ,\n",
       "         0.        , -10.01163694,  -0.        ,   6.6717517 ,\n",
       "        -0.        ,  29.72285205,   0.        ,   0.        ,\n",
       "         3.19781292,  -0.        ,  -4.31999142,  -2.19710409,\n",
       "        -0.        ,   0.        ,   0.        ,   0.08881898,\n",
       "         0.        ,  -0.        ,  -0.        ,  -0.        ,\n",
       "         0.        ,   0.        ,  -3.92813546,  -0.        ,\n",
       "        -0.        ,  -0.        ,   0.        ,   0.        ,\n",
       "         0.        ,   0.        ,   0.        , -11.14856473,\n",
       "        -0.        ,   0.        ,   0.        , -13.430503  ,\n",
       "         0.        ,   0.        ,   0.        ,   0.        ,\n",
       "        -0.        ,   0.        ,   0.        ,   0.        ,\n",
       "         0.        ,   0.        ,   0.        ,   0.        ,\n",
       "         0.        ,   0.        ,   0.0705824 ,   0.18625663,\n",
       "        -0.97174324,   2.20307531,  42.06718366,   0.        ,\n",
       "         0.57957333,  -8.75617772,   0.        ,   0.        ,\n",
       "        -0.        ,   0.        ,   0.        ,   0.        ,\n",
       "         6.92185157,   8.20350497,  -7.18927453, -10.16444316,\n",
       "         0.        ,   0.        ,   0.48530522,  -0.        ,\n",
       "        -7.3414173 , -28.84169793,   0.        ,  -0.        ,   0.        ])"
      ]
     },
     "execution_count": 27,
     "metadata": {},
     "output_type": "execute_result"
    }
   ],
   "source": [
    "lasso_model.coef_"
   ]
  },
  {
   "cell_type": "code",
   "execution_count": 28,
   "metadata": {
    "collapsed": true
   },
   "outputs": [],
   "source": [
    "lasso_model = Lasso(alpha=0.5)"
   ]
  },
  {
   "cell_type": "code",
   "execution_count": 29,
   "metadata": {
    "collapsed": false
   },
   "outputs": [
    {
     "data": {
      "text/plain": [
       "Lasso(alpha=0.5, copy_X=True, fit_intercept=True, max_iter=1000,\n",
       "   normalize=False, positive=False, precompute=False, random_state=None,\n",
       "   selection='cyclic', tol=0.0001, warm_start=False)"
      ]
     },
     "execution_count": 29,
     "metadata": {},
     "output_type": "execute_result"
    }
   ],
   "source": [
    "lasso_model.fit(x_train, y_train)"
   ]
  },
  {
   "cell_type": "code",
   "execution_count": 30,
   "metadata": {
    "collapsed": false
   },
   "outputs": [
    {
     "data": {
      "text/plain": [
       "array([  7.41776749e-01,  -6.15480041e+00,   1.27822217e+00,\n",
       "         0.00000000e+00,   1.13284481e-02,  -5.06650708e+00,\n",
       "         7.38451675e+00,   0.00000000e+00,   2.83386812e+00,\n",
       "         0.00000000e+00,   3.16726479e+00,   0.00000000e+00,\n",
       "        -2.23151031e+00,   0.00000000e+00,   0.00000000e+00,\n",
       "        -0.00000000e+00,   0.00000000e+00,  -0.00000000e+00,\n",
       "        -0.00000000e+00,  -3.54215927e+00,   2.80925056e+00,\n",
       "        -0.00000000e+00,   2.14000793e+01,  -0.00000000e+00,\n",
       "        -0.00000000e+00,  -0.00000000e+00,  -2.88470565e-01,\n",
       "         2.12348288e+00,   2.89866304e-01,   4.90382847e-01,\n",
       "        -0.00000000e+00,  -0.00000000e+00,   0.00000000e+00,\n",
       "        -0.00000000e+00,   4.54885183e+00,   0.00000000e+00,\n",
       "         0.00000000e+00,  -1.69598679e+01,   0.00000000e+00,\n",
       "         0.00000000e+00,   9.45091113e+00,  -0.00000000e+00,\n",
       "         0.00000000e+00,  -0.00000000e+00,  -0.00000000e+00,\n",
       "         0.00000000e+00,   0.00000000e+00,   4.96415763e+00,\n",
       "        -0.00000000e+00,  -0.00000000e+00,  -0.00000000e+00,\n",
       "         0.00000000e+00,   0.00000000e+00,  -0.00000000e+00,\n",
       "        -0.00000000e+00,   1.38206056e-01,  -0.00000000e+00,\n",
       "         0.00000000e+00,   0.00000000e+00,   0.00000000e+00,\n",
       "         0.00000000e+00,   0.00000000e+00,  -4.33538268e+00,\n",
       "        -0.00000000e+00,   0.00000000e+00,   0.00000000e+00,\n",
       "         0.00000000e+00,   0.00000000e+00,   0.00000000e+00,\n",
       "        -0.00000000e+00,  -0.00000000e+00,  -0.00000000e+00,\n",
       "        -0.00000000e+00,   0.00000000e+00,  -0.00000000e+00,\n",
       "        -0.00000000e+00,  -0.00000000e+00,  -0.00000000e+00,\n",
       "         0.00000000e+00,  -0.00000000e+00,  -0.00000000e+00,\n",
       "         0.00000000e+00,   0.00000000e+00,  -0.00000000e+00,\n",
       "        -0.00000000e+00,   0.00000000e+00,   0.00000000e+00,\n",
       "        -0.00000000e+00,   0.00000000e+00,   0.00000000e+00,\n",
       "         0.00000000e+00,   0.00000000e+00,  -0.00000000e+00,\n",
       "         0.00000000e+00,   0.00000000e+00,   0.00000000e+00,\n",
       "         0.00000000e+00,   0.00000000e+00,   0.00000000e+00,\n",
       "         0.00000000e+00,   0.00000000e+00,   0.00000000e+00,\n",
       "         2.78125265e-02,   1.26368691e-01,  -5.50997086e-01,\n",
       "         2.54309964e+00,   1.64684082e+00,   0.00000000e+00,\n",
       "         6.76843898e-01,  -5.39212224e+00,   0.00000000e+00,\n",
       "         0.00000000e+00,  -0.00000000e+00,   0.00000000e+00,\n",
       "         0.00000000e+00,   0.00000000e+00,   7.52113439e+00,\n",
       "         7.00095762e+00,  -1.88569517e+00,  -4.13124568e+00,\n",
       "         0.00000000e+00,   0.00000000e+00,  -0.00000000e+00,\n",
       "        -0.00000000e+00,  -0.00000000e+00,  -4.68175291e+00,\n",
       "         0.00000000e+00,  -0.00000000e+00,   0.00000000e+00])"
      ]
     },
     "execution_count": 30,
     "metadata": {},
     "output_type": "execute_result"
    }
   ],
   "source": [
    "lasso_model.coef_"
   ]
  },
  {
   "cell_type": "code",
   "execution_count": 31,
   "metadata": {
    "collapsed": true
   },
   "outputs": [],
   "source": [
    "lasso_model = Lasso(alpha=1)"
   ]
  },
  {
   "cell_type": "code",
   "execution_count": 32,
   "metadata": {
    "collapsed": false
   },
   "outputs": [
    {
     "data": {
      "text/plain": [
       "Lasso(alpha=1, copy_X=True, fit_intercept=True, max_iter=1000,\n",
       "   normalize=False, positive=False, precompute=False, random_state=None,\n",
       "   selection='cyclic', tol=0.0001, warm_start=False)"
      ]
     },
     "execution_count": 32,
     "metadata": {},
     "output_type": "execute_result"
    }
   ],
   "source": [
    "lasso_model.fit(x_train, y_train)"
   ]
  },
  {
   "cell_type": "code",
   "execution_count": 33,
   "metadata": {
    "collapsed": false
   },
   "outputs": [
    {
     "data": {
      "text/plain": [
       "array([  0.37181023,  -4.61114302,   1.30076133,  -0.        ,\n",
       "         0.        ,  -5.27229216,   7.96406457,   0.        ,\n",
       "         2.65616947,   0.        ,   3.02013032,   0.        ,\n",
       "        -0.        ,   0.        ,   0.        ,  -0.        ,\n",
       "         0.        ,  -0.        ,  -0.        ,  -2.88227526,\n",
       "         2.72890434,  -0.        ,  14.34804695,  -0.        ,\n",
       "        -0.        ,  -0.        ,  -0.        ,   2.37318045,\n",
       "         0.54716315,   0.        ,  -0.        ,  -0.        ,\n",
       "         0.        ,   0.        ,   3.83022461,   0.        ,\n",
       "         0.        ,  -2.96010342,  -0.        ,   0.        ,\n",
       "         4.83249053,  -0.        ,  -0.        ,  -0.        ,\n",
       "        -0.        ,   0.        ,   0.        ,   0.        ,\n",
       "        -0.        ,  -0.        ,  -0.        ,   0.        ,\n",
       "         0.        ,  -0.        ,  -0.        ,   0.        ,\n",
       "        -0.        ,   0.        ,   0.        ,   0.        ,\n",
       "         0.        ,   0.        ,  -3.95111226,  -0.        ,\n",
       "         0.        ,   0.        ,   0.        ,   0.        ,\n",
       "         0.        ,  -0.        ,  -0.        ,  -0.        ,\n",
       "        -0.        ,   0.        ,  -0.        ,  -0.        ,\n",
       "        -0.        ,  -0.        ,   0.        ,  -0.        ,\n",
       "        -0.        ,   0.        ,   0.        ,  -0.        ,\n",
       "        -0.        ,   0.        ,   0.        ,  -0.        ,\n",
       "         0.        ,   0.        ,   0.        ,   0.        ,\n",
       "        -0.        ,   0.        ,   0.        ,   0.        ,\n",
       "         0.        ,   0.        ,   0.        ,   0.        ,\n",
       "         0.        ,   0.        ,  -0.01805897,   0.09703119,\n",
       "        -0.        ,   2.32849308,   0.        ,   0.        ,\n",
       "         0.49097261,  -0.        ,   0.        ,   0.        ,\n",
       "        -0.        ,   0.        ,   0.        ,   0.        ,\n",
       "         6.48574809,   6.30384593,  -0.        ,  -0.        ,\n",
       "         0.        ,   0.        ,  -0.        ,  -0.        ,\n",
       "        -0.        ,  -0.        ,   0.        ,  -0.        ,   0.        ])"
      ]
     },
     "execution_count": 33,
     "metadata": {},
     "output_type": "execute_result"
    }
   ],
   "source": [
    "lasso_model.coef_"
   ]
  },
  {
   "cell_type": "markdown",
   "metadata": {},
   "source": [
    "###b. How does this model perform on the test set?"
   ]
  },
  {
   "cell_type": "code",
   "execution_count": 34,
   "metadata": {
    "collapsed": false
   },
   "outputs": [
    {
     "data": {
      "image/png": "[encoded data removed]",
      "text/plain": [
       "<matplotlib.figure.Figure at 0x10adff0d0>"
      ]
     },
     "metadata": {},
     "output_type": "display_data"
    }
   ],
   "source": [
    "plt.scatter(lasso_model.predict(x_test), y_test, s=50)\n",
    "plt.xlabel('predicted value')\n",
    "plt.ylabel('actual value')\n",
    "plt.show()"
   ]
  },
  {
   "cell_type": "markdown",
   "metadata": {},
   "source": [
    "I can see some correlation in this."
   ]
  },
  {
   "cell_type": "markdown",
   "metadata": {},
   "source": [
    "###1.No matter how high I make alpha, the coefficient on crossing (\"number of nearby crosswalks\") never goes away. Try a simple linear regression on just that variable."
   ]
  },
  {
   "cell_type": "code",
   "execution_count": 35,
   "metadata": {
    "collapsed": false
   },
   "outputs": [
    {
     "data": {
      "text/plain": [
       "LinearRegression(copy_X=True, fit_intercept=True, n_jobs=1, normalize=False)"
      ]
     },
     "execution_count": 35,
     "metadata": {},
     "output_type": "execute_result"
    }
   ],
   "source": [
    "x = avgerage_stations_df[list(avgerage_stations_df.columns.values[111:112])]\n",
    "y = avgerage_stations_df[list(avgerage_stations_df.columns.values[1:2])]\n",
    "lin_regr = linear_model.LinearRegression()\n",
    "lin_regr.fit(x, y)"
   ]
  },
  {
   "cell_type": "code",
   "execution_count": 36,
   "metadata": {
    "collapsed": false
   },
   "outputs": [
    {
     "data": {
      "image/png": "[encoded data removed]",
      "text/plain": [
       "<matplotlib.figure.Figure at 0x10b20ddd0>"
      ]
     },
     "metadata": {},
     "output_type": "display_data"
    }
   ],
   "source": [
    "plt.scatter(lin_regr.predict(x), y, s=50)\n",
    "plt.xlabel('predicted value')\n",
    "plt.ylabel('actual value')\n",
    "plt.show()"
   ]
  },
  {
   "cell_type": "markdown",
   "metadata": {},
   "source": [
    "This looks like reasonably correlated."
   ]
  },
  {
   "cell_type": "code",
   "execution_count": null,
   "metadata": {
    "collapsed": true
   },
   "outputs": [],
   "source": []
  }
 ],
 "metadata": {
  "kernelspec": {
   "display_name": "Python 2",
   "language": "python",
   "name": "python2"
  },
  "language_info": {
   "codemirror_mode": {
    "name": "ipython",
    "version": 2
   },
   "file_extension": ".py",
   "mimetype": "text/x-python",
   "name": "python",
   "nbconvert_exporter": "python",
   "pygments_lexer": "ipython2",
   "version": "2.7.5"
  }
 },
 "nbformat": 4,
 "nbformat_minor": 0
}
